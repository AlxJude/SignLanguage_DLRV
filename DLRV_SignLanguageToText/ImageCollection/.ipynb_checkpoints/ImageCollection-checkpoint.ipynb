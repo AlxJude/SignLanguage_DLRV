{
 "cells": [
  {
   "cell_type": "code",
   "execution_count": null,
   "id": "197b78da",
   "metadata": {},
   "outputs": [],
   "source": [
    "import cv2\n",
    "import os\n",
    "import time"
   ]
  },
  {
   "cell_type": "code",
   "execution_count": null,
   "id": "efe33774",
   "metadata": {},
   "outputs": [],
   "source": [
    "def center_crop(frame):\n",
    "    h, w, _ = frame.shape\n",
    "    start = abs(h - w) // 2\n",
    "    if h > w:\n",
    "        return frame[start: start + w]\n",
    "    return frame[:, start: start + h]\n",
    "\n",
    "def ImageCollection(IMAGES_PATH,SAMPLES,labels):\n",
    "    for label in labels:\n",
    "        print(label)\n",
    "        !mkdir {IMAGES_PATH + '/' +label}\n",
    "        cap = cv2.VideoCapture(1)\n",
    "        print('Collecting images for {}'.format(label))\n",
    "        for imgnum in range(SAMPLES):\n",
    "            ret, frame = cap.read()\n",
    "            frame = cv2.flip(frame,1)\n",
    "            # preprocess data\n",
    "            frame = center_crop(frame)\n",
    "            frame = cv2.cvtColor(frame, cv2.COLOR_RGB2GRAY)\n",
    "            imagename = os.path.join(IMAGES_PATH, label, label+'_{}.jpg'.format(imgnum))\n",
    "            cv2.imwrite(imagename, frame)\n",
    "            cv2.imshow('frame', frame)\n",
    "            time.sleep(2)\n",
    "            \n",
    "            if cv2.waitKey(1) & 0xFF == ord('q'):\n",
    "                break\n",
    "        cap.release()"
   ]
  },
  {
   "cell_type": "code",
   "execution_count": null,
   "id": "a0f58b53",
   "metadata": {
    "scrolled": true
   },
   "outputs": [],
   "source": [
    "#Labels for the alphabets\n",
    "labels = ['A',\n",
    "          'B',\n",
    "          'C',\n",
    "          'D',\n",
    "          'E',\n",
    "          'F',\n",
    "          'G',\n",
    "          'H',\n",
    "          'I',\n",
    "          'J',\n",
    "          'K',\n",
    "          'L',\n",
    "          'M',\n",
    "          'N',\n",
    "          'O',\n",
    "          'P',\n",
    "          'Q',\n",
    "          'R',\n",
    "          'S',\n",
    "          'T',\n",
    "          'U',\n",
    "          'V',\n",
    "          'W',\n",
    "          'X',\n",
    "          'Y',\n",
    "          'Z']\n",
    "\n",
    "#Create folders for classes\n",
    "IMAGES_PATH = '../CollectedImages'\n",
    "!mkdir {'./'+IMAGES_PATH+'/'}\n",
    "\n",
    "#SAMPLES: Defines the number of images collected per class.\n",
    "SAMPLES = 50\n",
    "\n",
    "#Collect images\n",
    "ImageCollection(IMAGES_PATH=IMAGES_PATH,SAMPLES=SAMPLES,labels=labels)"
   ]
  }
 ],
 "metadata": {
  "kernelspec": {
   "display_name": "Python 3 (ipykernel)",
   "language": "python",
   "name": "python3"
  },
  "language_info": {
   "codemirror_mode": {
    "name": "ipython",
    "version": 3
   },
   "file_extension": ".py",
   "mimetype": "text/x-python",
   "name": "python",
   "nbconvert_exporter": "python",
   "pygments_lexer": "ipython3",
   "version": "3.8.12"
  }
 },
 "nbformat": 4,
 "nbformat_minor": 5
}
