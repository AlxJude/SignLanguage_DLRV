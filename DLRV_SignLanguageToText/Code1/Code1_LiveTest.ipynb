{
 "cells": [
  {
   "cell_type": "markdown",
   "id": "4c8a2517",
   "metadata": {},
   "source": [
    "## Test Live Feed Evaluation"
   ]
  },
  {
   "cell_type": "code",
   "execution_count": null,
   "id": "d36c47ec",
   "metadata": {},
   "outputs": [],
   "source": [
    "import cv2\n",
    "import numpy as np\n",
    "import onnxruntime as ort\n",
    "\n",
    "\n",
    "def center_crop(frame):\n",
    "    h, w, _ = frame.shape\n",
    "    start = abs(h - w) // 2\n",
    "    if h > w:\n",
    "        return frame[start: start + w]\n",
    "    return frame[:, start: start + h]\n",
    "\n",
    "\n",
    "def main(filename):\n",
    "    # constants\n",
    "    index_to_letter = list('ABCDEFGHIKLMNOPQRSTUVWXY')\n",
    "    mean = 0.485 * 255.\n",
    "    std = 0.229 * 255.\n",
    "\n",
    "    # create runnable session with exported model\n",
    "    ort_session = ort.InferenceSession(filename)\n",
    "    \n",
    "    \n",
    "    cap = cv2.VideoCapture(1)\n",
    "    \n",
    "    #cap.open(0, cv2.CAP_DSHOW)\n",
    "    while True:\n",
    "        # Capture frame-by-frame\n",
    "        ret, frame = cap.read()\n",
    "\n",
    "        #frame = cv2.flip(frame,1)\n",
    "        # preprocess data\n",
    "        frame = center_crop(frame)\n",
    "        frame = cv2.cvtColor(frame, cv2.COLOR_RGB2GRAY)\n",
    "        x = cv2.resize(frame, (28, 28))\n",
    "        x = (x - mean) / std\n",
    "        \n",
    "        #importedimage = cv2.imread(\"/Users/elantonfernandes/Desktop/HBRS/SEMESTER_4/DLRV/SignLanguage/CollectedImages/A/A_5.jpg\")\n",
    "        #print(importedimage)\n",
    "        x = x.reshape(1, 1, 28, 28).astype(np.float32)\n",
    "        y = ort_session.run(None, {'input': x})[0]\n",
    "\n",
    "        index = np.argmax(y, axis=1)\n",
    "        letter = index_to_letter[int(index)]\n",
    "\n",
    "        cv2.putText(frame, letter, (50, 200), cv2.FONT_HERSHEY_SIMPLEX, 4.0, (0, 255, 0), thickness=4)\n",
    "        cv2.imshow(\"Sign Language Translator\", cv2.cvtColor(frame, cv2.COLOR_GRAY2RGB))\n",
    "\n",
    "        if cv2.waitKey(1) & 0xFF == ord('q'):\n",
    "            break\n",
    "\n",
    "    cap.release()\n",
    "    cv2.destroyAllWindows()"
   ]
  },
  {
   "cell_type": "code",
   "execution_count": 1,
   "id": "096ab0a6",
   "metadata": {},
   "outputs": [],
   "source": [
    "if __name__ == '__main__':\n",
    "    USE_KAGGLE_DATASET = True\n",
    "    if(USE_KAGGLE_DATASET):\n",
    "        main(filename=\"signlanguage_kaggle.onnx\")\n",
    "    else:\n",
    "        main(filename=\"signlanguage_collected.onnx\")"
   ]
  }
 ],
 "metadata": {
  "kernelspec": {
   "display_name": "Python 3",
   "language": "python",
   "name": "python3"
  },
  "language_info": {
   "codemirror_mode": {
    "name": "ipython",
    "version": 3
   },
   "file_extension": ".py",
   "mimetype": "text/x-python",
   "name": "python",
   "nbconvert_exporter": "python",
   "pygments_lexer": "ipython3",
   "version": "3.8.3"
  }
 },
 "nbformat": 4,
 "nbformat_minor": 5
}
